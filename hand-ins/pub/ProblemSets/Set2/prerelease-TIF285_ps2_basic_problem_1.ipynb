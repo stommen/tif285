{
 "cells": [
  {
   "cell_type": "code",
   "execution_count": null,
   "id": "74de1f2f-9b6c-4c3a-af99-31d2feb4c316",
   "metadata": {},
   "outputs": [],
   "source": [
    "import os\n",
    "# Data files are stored in\n",
    "DATA_DIR = \"DataFiles/\"\n",
    "\n",
    "if not os.path.exists(DATA_DIR):\n",
    "    os.makedirs(DATA_DIR)"
   ]
  },
  {
   "cell_type": "markdown",
   "id": "7f9815d5-0312-41ed-965c-f4fa6b96fb5c",
   "metadata": {},
   "source": [
    "## Problem 1: Coin tossing (2 points)"
   ]
  },
  {
   "cell_type": "markdown",
   "id": "4df1376d-0e8b-44c0-a9f8-a62c981ff718",
   "metadata": {},
   "source": [
    "**Task (see also Yata):** Define a function `bayesian_analysis_coin_flips` (see start code below) that returns the mean, median, and 68%/95% credible intervals of the Bayesian posterior with an input data array of coin flips and using a uniform $[0,1]$ prior for `pH` (probability of heads)."
   ]
  },
  {
   "cell_type": "markdown",
   "id": "098a543a-49f8-4488-af50-5de5178e75da",
   "metadata": {},
   "source": [
    "**Task (mainly for testing your code; not on Yata)** Read the data with simulated coin tosses from the file `cointosses.dat`.\n",
    "Each row corresponds to a single toss: 0=tails; 1=heads\n",
    "\n",
    "Extract the mean and the 95% credible intervals (Degree-of-belief or DoB intervals) from the first 8 tosses, the first 64 tosses, the first 512 tosses and all 4096 tosses in the data assuming a uniform prior for the probability $p_H$ of obtaining heads in a single toss."
   ]
  },
  {
   "cell_type": "markdown",
   "id": "3f140d7a-4ea7-413c-a307-cc0df8712c4b",
   "metadata": {},
   "source": [
    "**Task (see also Yata):** Check how the width ($d_{68}$) of your 68% credible interval depends on the number of coin tosses ($N$) that is included in the data likelihood. It should be some power-law dependence: $d_{68} \\propto N^p$; but which power $p$? What do you expect and what do you find?"
   ]
  },
  {
   "cell_type": "markdown",
   "id": "bd66869c-54f0-49f2-b485-04b9fcc94db0",
   "metadata": {},
   "source": [
    "*Hint*: Sample code for computing the DoB interval is available in the demonstration notebook `demo-BayesianBasics.ipynb`."
   ]
  },
  {
   "cell_type": "code",
   "execution_count": null,
   "id": "8c80d7c9-2abf-4e9b-b8d1-b7d3e62b00d6",
   "metadata": {},
   "outputs": [],
   "source": [
    "# importing modules\n",
    "\n",
    "%matplotlib inline\n",
    "\n",
    "import numpy as np\n",
    "import matplotlib.pyplot as plt\n",
    "#...\n",
    "\n",
    "# \n",
    "# YOUR CODE HERE\n",
    "# "
   ]
  },
  {
   "cell_type": "code",
   "execution_count": null,
   "id": "1753314c-7b86-4875-86a6-e7f6c9510ea6",
   "metadata": {},
   "outputs": [],
   "source": [
    "# Read data\n",
    "data = np.loadtxt(f'{DATA_DIR}/PS2_Prob1_cointosses.txt')"
   ]
  },
  {
   "cell_type": "code",
   "execution_count": null,
   "id": "d3b50ab7-9063-40cf-9248-eb946275eb7c",
   "metadata": {},
   "outputs": [],
   "source": [
    "# Optional. \n",
    "# Insert utility code / functions here.\n",
    "\n",
    "# \n",
    "# YOUR CODE HERE\n",
    "# "
   ]
  },
  {
   "cell_type": "code",
   "execution_count": null,
   "id": "be52de44-b810-41b9-a457-279ec4276a96",
   "metadata": {},
   "outputs": [],
   "source": [
    "# Define a function that returns the mean, median, and 68%/95% credible intervals \n",
    "# of the Bayesian posterior with an input data array of coin flips \n",
    "# and using a uniform [0,1] prior for the pH (probability of heads).\n",
    "\n",
    "def bayesian_analysis_coin_flips(data_coin_tosses):\n",
    "    \"\"\"\n",
    "    Returns various Bayesian analysis results for the given data of coin tosses.\n",
    "    \n",
    "    The posterior is p( pH | data, I).\n",
    "    Assume a uniform p(pH|I) = U[0,1] prior\n",
    "    \n",
    "    Args:\n",
    "        data_coin_tosses: Array of shape (m,) with 'm' independent binary data.\n",
    "            0 = tails; 1 = heads\n",
    "            \n",
    "    Returns:\n",
    "        (mean, mode, median, dob68, dob95): A tuple with the following elements\n",
    "            mean: The mean of the posterior distribution (float)\n",
    "            mode: The mode of the posterior distribution (float)\n",
    "            median: The median of the posterior distribution (float)\n",
    "            dob68: A tuple (lo,hi) with the lower and upper limits of the \n",
    "                68% degree-of-belief range of the posterior distribution (float,float)\n",
    "            dob95: A tuple (lo,hi) with the lower and upper limits of the \n",
    "                95% degree-of-belief range of the posterior distribution (float,float)\n",
    "    \"\"\"\n",
    "    # \n",
    "    # YOUR CODE HERE\n",
    "    # "
   ]
  },
  {
   "cell_type": "code",
   "execution_count": null,
   "id": "cf69507e-528a-4a19-8ab2-8747df0d6335",
   "metadata": {},
   "outputs": [],
   "source": [
    "(mean, mode, median, dob68, dob95) = bayesian_analysis_coin_flips(data[:1])\n",
    "for output in (mean, mode, median, dob68[0], dob95[0]):\n",
    "    assert output.dtype=='float64', 'Wrong type'\n",
    "assert len(dob68)==2, 'DoB tuple should be of length 2'\n",
    "assert len(dob95)==2, 'DoB tuple should be of length 2'\n",
    "assert np.abs(mean-0.667)<0.001\n",
    "assert np.abs(mode-1.0)<0.001\n",
    "assert np.abs(median-0.707)<0.001\n",
    "\n",
    "# 8 tosses\n",
    "(mean, mode, median, dob68, dob95) = bayesian_analysis_coin_flips(data[:8])\n",
    "assert np.abs(mode-0.3750)<0.001\n",
    "assert np.abs(dob68[0]-0.2469)<0.001\n",
    "assert np.abs(dob68[1]-0.5538)<0.001\n",
    "# 1024 tosses\n",
    "(mean, mode, median, dob68, dob95) = bayesian_analysis_coin_flips(data[:1024])\n",
    "assert np.abs(median-0.4922)<0.001\n",
    "# 4096 tosses\n",
    "(mean, mode, median, dob68, dob95) = bayesian_analysis_coin_flips(data[:4096])\n",
    "assert np.abs(dob95[0]-0.4727)<0.001\n",
    "assert np.abs(dob95[1]-0.5033)<0.001"
   ]
  },
  {
   "cell_type": "code",
   "execution_count": null,
   "id": "8d4ed701-7a10-4ade-bf37-f5145058d28f",
   "metadata": {},
   "outputs": [],
   "source": []
  }
 ],
 "metadata": {
  "kernelspec": {
   "display_name": "Python 3 (ipykernel)",
   "language": "python",
   "name": "python3"
  },
  "language_info": {
   "codemirror_mode": {
    "name": "ipython",
    "version": 3
   },
   "file_extension": ".py",
   "mimetype": "text/x-python",
   "name": "python",
   "nbconvert_exporter": "python",
   "pygments_lexer": "ipython3",
   "version": "3.12.5"
  }
 },
 "nbformat": 4,
 "nbformat_minor": 5
}
