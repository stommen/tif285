{
 "cells": [
  {
   "cell_type": "code",
   "execution_count": 2,
   "metadata": {},
   "outputs": [
    {
     "name": "stdout",
     "output_type": "stream",
     "text": [
      "cD_eval is of shape: (2, 2)\n",
      "[[-2.5  2.5]\n",
      " [-2.5  2.5]]\n",
      "E4He_eval is of shape: (2, 2)\n",
      "[[ -24.40247682  -21.37114724]\n",
      " [-105.55765698  -40.33178611]]\n"
     ]
    }
   ],
   "source": [
    "import numpy as np\n",
    "import matplotlib.pyplot as plt\n",
    "\n",
    "import quantumsolver as qs\n",
    "\n",
    "#help(qs.fewnucleonEmulator)\n",
    "\n",
    "# Vectorized version of the fewnucleonEmulator\n",
    "vfewnucleonEmulator = np.vectorize(qs.fewnucleonEmulator)\n",
    "\n",
    "# Test of vectorized version\n",
    "cD_grid = np.array([-2.5, 2.5])\n",
    "cE_grid = np.array([-1., 1.])\n",
    "# Create a 2-dimensional grid\n",
    "cD_eval, cE_eval = np.meshgrid(cD_grid,cE_grid)\n",
    "print('cD_eval is of shape:', cD_eval.shape)\n",
    "print(cD_eval)\n",
    "# The vectorized version of the few-nucleon emulator will produce an output tuple\n",
    "# where each element is an array of the same shape as the input\n",
    "E4He_eval, Rp4He_eval, Rch4He_eval, E3He_eval, E3H_eval, E1A3H_eval, fT3H_eval = vfewnucleonEmulator(cD_eval, cE_eval)\n",
    "print('E4He_eval is of shape:', E4He_eval.shape)\n",
    "print(E4He_eval)"
   ]
  },
  {
   "cell_type": "code",
   "execution_count": null,
   "metadata": {},
   "outputs": [],
   "source": []
  }
 ],
 "metadata": {
  "kernelspec": {
   "display_name": "tif285-env",
   "language": "python",
   "name": "python3"
  },
  "language_info": {
   "codemirror_mode": {
    "name": "ipython",
    "version": 3
   },
   "file_extension": ".py",
   "mimetype": "text/x-python",
   "name": "python",
   "nbconvert_exporter": "python",
   "pygments_lexer": "ipython3",
   "version": "3.12.5"
  }
 },
 "nbformat": 4,
 "nbformat_minor": 2
}
